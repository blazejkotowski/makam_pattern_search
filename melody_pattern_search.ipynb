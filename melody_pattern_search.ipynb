{
 "cells": [
  {
   "cell_type": "code",
   "execution_count": 1,
   "metadata": {},
   "outputs": [],
   "source": [
    "import music21 as m21\n",
    "import os\n",
    "import glob\n",
    "import numpy as np\n",
    "import matplotlib.pyplot as plt\n",
    "import xml.etree.ElementTree as ET"
   ]
  },
  {
   "cell_type": "code",
   "execution_count": 53,
   "metadata": {},
   "outputs": [],
   "source": [
    "# Set custom MuseScore path (Comment it out if necessary)\n",
    "m21.environment.UserSettings()['musescoreDirectPNGPath'] = \"/Applications/MuseScore 3.app/Contents/MacOS/mscore\"\n",
    "\n",
    "dataset_root = './SymbTr-2.4.3'\n",
    "scores_root = os.path.join(dataset_root, 'MusicXML')\n",
    "score_filenames = os.listdir(scores_root)"
   ]
  },
  {
   "cell_type": "markdown",
   "metadata": {},
   "source": [
    "## Selecting scores from the dataset\n",
    "\n",
    "In this part we are preparing two subsets of makam scores from all the available scores in the dataset.\n",
    "We decided to work on dugah and rast makams. \n",
    "Dugah is characterised by tonic in A. \n",
    "Rast has a tonic in G."
   ]
  },
  {
   "cell_type": "code",
   "execution_count": 67,
   "metadata": {},
   "outputs": [
    {
     "name": "stdout",
     "output_type": "stream",
     "text": [
      "935 scores in dugah makam\n",
      "501 scores in rast makam\n"
     ]
    }
   ],
   "source": [
    "# filter the scores\n",
    "makams_by_tonic = {\n",
    "    \"dugah\": ['hicaz', 'dugah', 'huseyni', 'acemkurdi', 'isfahan', 'hicaz_humayun', 'sehnaz', \n",
    "                'karcigar', 'ussak', 'gerdaniye', 'muhayyerkurdi', 'saba', 'nisaburek', 'buselik',\n",
    "                'muhayyer', 'beyati', 'tahir', 'neva'],\n",
    "    \"rast\": ['mahur', 'rast', 'nikriz', 'hicazkar', 'nihavent', 'kurdilihicazkar']\n",
    "}\n",
    "\n",
    "scores_by_tonic = {\n",
    "    \"dugah\": [],\n",
    "    \"rast\": []\n",
    "}\n",
    "\n",
    "tonic_note = {\n",
    "    \"dugah\": m21.note.Note(\"A\"),\n",
    "    \"rast\": m21.note.Note(\"G\")\n",
    "}\n",
    "\n",
    "for score in score_filenames:\n",
    "    score_makam = score.split('--')[0]\n",
    "    for tonic in makams_by_tonic.keys():\n",
    "        if score_makam in makams_by_tonic[tonic]:\n",
    "            scores_by_tonic[tonic].append(score)\n",
    "\n",
    "all_scores = scores_by_tonic[\"dugah\"] + scores_by_tonic[\"rast\"]\n",
    "\n",
    "for tonic, scores in scores_by_tonic.items():\n",
    "    print(\"%d scores in %s makam\" % (len(scores), tonic))"
   ]
  },
  {
   "cell_type": "markdown",
   "metadata": {},
   "source": [
    "## Preprocessing scores\n",
    "All the MusicXML scores have to be preprocessed before we start working on them. There is a couple of XML tags that are not supported by music21. For this reason, we are removing them before moving on."
   ]
  },
  {
   "cell_type": "code",
   "execution_count": 35,
   "metadata": {},
   "outputs": [],
   "source": [
    "# Create a directory for parsed scores\n",
    "parsed_scores_root = \"./parsed_scores\"\n",
    "try:  \n",
    "    os.mkdir(parsed_scores_root)\n",
    "except OSError:  \n",
    "    pass"
   ]
  },
  {
   "cell_type": "code",
   "execution_count": 36,
   "metadata": {
    "scrolled": false
   },
   "outputs": [],
   "source": [
    "def parse_score(score_filename):\n",
    "    '''\n",
    "    Removes MusicXML information that may be useless or misleading in Makam context.\n",
    "    Moreover some of the MXL tags are not supported by music21.\n",
    "    '''\n",
    "    tree = ET.parse(os.path.join(scores_root, score_filename))\n",
    "    root = tree.getroot()\n",
    "    \n",
    "    for k in root.iter('key'):\n",
    "        for ks in k.findall('key-step'):\n",
    "            k.remove(ks)\n",
    "        for ka in k.findall('key-accidental'):\n",
    "            k.remove(ka)\n",
    "        for ka in k.findall('key-alter'):\n",
    "            k.remove(ka)\n",
    "            \n",
    "    # Save the new xml files to be later loaded with music21\n",
    "    new_score = os.path.join(parsed_scores_root, score_filename)\n",
    "    tree.write(new_score)"
   ]
  },
  {
   "cell_type": "code",
   "execution_count": 65,
   "metadata": {},
   "outputs": [],
   "source": [
    "for score_name in all_scores:\n",
    "    parse_score(score_name)"
   ]
  },
  {
   "cell_type": "code",
   "execution_count": 38,
   "metadata": {},
   "outputs": [],
   "source": []
  },
  {
   "cell_type": "code",
   "execution_count": null,
   "metadata": {},
   "outputs": [],
   "source": []
  },
  {
   "cell_type": "code",
   "execution_count": 47,
   "metadata": {},
   "outputs": [],
   "source": [
    "# Number of comas added by an accidental\n",
    "accidental_mapping = {\n",
    "    'double-slash-flat': -8,\n",
    "    'flat': -5,\n",
    "    'slash-flat': -4,\n",
    "    'quater-flat': -1,\n",
    "    'half-flat': -1,\n",
    "    \n",
    "    'quarter-sharp': 1,\n",
    "    'half-sharp': 1,\n",
    "    'sharp': 4,\n",
    "    'slash-quarter-sharp': 5,\n",
    "    'slash-sharp': 8,\n",
    "}\n",
    "\n",
    "def comma_interval(noteA, noteB):\n",
    "    '''\n",
    "    In Makam music each whole tone is divided into 9 \"Commas\".\n",
    "    This function returns number of Commas in between two notes, taking into\n",
    "    account non-standard accidental interpretation.\n",
    "    '''\n",
    "    for note in [noteA, noteB]:\n",
    "        if note.pitch.accidental:\n",
    "            acc_name = note.pitch.accidental.name\n",
    "            note.pitch.microtone = accidental_mapping[acc_name]*200/9\n",
    "            note.pitch.accidental = None\n",
    "    \n",
    "    return np.round(9*m21.interval.notesToChromatic(noteA, noteB).semitones*100/200, decimals=2)\n",
    "\n",
    "def cents_interval(noteA, noteB):\n",
    "    '''\n",
    "    In Makam music each whole tone is divided into 9 \"Commas\".\n",
    "    This function returns number of cents in between two notes, taking into\n",
    "    account non-standard accidental interpretation.\n",
    "    '''\n",
    "    for note in [noteA, noteB]:\n",
    "        if note.pitch.accidental:\n",
    "            acc_name = note.pitch.accidental.name\n",
    "            note.pitch.microtone = accidental_mapping[acc_name]*200/9\n",
    "            note.pitch.accidental = None\n",
    "    \n",
    "    #return np.round(9*m21.interval.notesToChromatic(noteA, noteB).semitones*100/200, decimals=2)\n",
    "    return np.round(m21.interval.notesToChromatic(noteA, noteB).semitones*100, decimals=3)\n",
    "    "
   ]
  },
  {
   "cell_type": "code",
   "execution_count": 40,
   "metadata": {},
   "outputs": [
    {
     "data": {
      "text/plain": [
       "211.111"
      ]
     },
     "execution_count": 40,
     "metadata": {},
     "output_type": "execute_result"
    }
   ],
   "source": [
    "# Testing intervals\n",
    "# noteA = m21.note.Note(\"C2\")\n",
    "# noteB = m21.note.Note(\"C2\")\n",
    "# acc = m21.pitch.Accidental()\n",
    "# acc.name = \"slash-sharp\"\n",
    "# noteB.pitch.accidental = acc\n",
    "# comma_interval(noteA, noteB)\n",
    "#re = m21.note.Note(\"D\")\n",
    "#re.pitch.accidental=\"sharp\"\n",
    "#fa = m21.note.Note(\"F\")\n",
    "#interval = m21.interval.notesToChromatic(re, fa)\n",
    "#cents_interval(re, fa)"
   ]
  },
  {
   "cell_type": "code",
   "execution_count": 78,
   "metadata": {},
   "outputs": [],
   "source": [
    "def get_notes(score_filename):\n",
    "    '''\n",
    "    Returns list of notes from a score\n",
    "    '''\n",
    "    score_path = os.path.join(parsed_scores_root, score_filename)\n",
    "    score = m21.converter.parse(score_path)\n",
    "    notes = score.parts[0].flat.notes\n",
    "    return notes\n",
    "\n",
    "def transform_to_intervals(notes):\n",
    "    '''\n",
    "    Returns a list of a relative cents \n",
    "    '''\n",
    "    intervals = [0]\n",
    "    for i in range(len(notes)-1):\n",
    "        noteA = notes[i]\n",
    "        noteB = notes[i+1]\n",
    "        intervals.append(cents_interval(noteA, noteB))\n",
    "    return intervals\n",
    "\n",
    "def transform_to_tonic_intervals(tonic, notes):\n",
    "    intervals = []\n",
    "    for note in notes:\n",
    "        intervals.append(cents_interval(tonic, note))\n",
    "    return intervals\n",
    "\n",
    "def get_note_name(note):\n",
    "    accidental = note.pitch.accidental.name if note.pitch.accidental else ''\n",
    "    return \"%s%d %s\" % (note.name, note.octave, accidental)"
   ]
  },
  {
   "cell_type": "code",
   "execution_count": 43,
   "metadata": {},
   "outputs": [],
   "source": [
    "def generate_ngrams(values, n=4):\n",
    "    '''\n",
    "    Returns a list of ngrams of length n\n",
    "    '''\n",
    "    ngrams = []\n",
    "    for i in range(len(values)-n):\n",
    "        ngrams.append(values[i:i+n])\n",
    "    return ngrams\n",
    "    "
   ]
  },
  {
   "cell_type": "code",
   "execution_count": 113,
   "metadata": {},
   "outputs": [
    {
     "ename": "KeyboardInterrupt",
     "evalue": "",
     "output_type": "error",
     "traceback": [
      "\u001b[0;31m---------------------------------------------------------------------------\u001b[0m",
      "\u001b[0;31mKeyboardInterrupt\u001b[0m                         Traceback (most recent call last)",
      "\u001b[0;32m<ipython-input-113-e2a347824ad5>\u001b[0m in \u001b[0;36m<module>\u001b[0;34m\u001b[0m\n\u001b[1;32m      7\u001b[0m         \u001b[0moccurances\u001b[0m\u001b[0;34m[\u001b[0m\u001b[0mtonic_name\u001b[0m\u001b[0;34m]\u001b[0m \u001b[0;34m=\u001b[0m \u001b[0;34m{\u001b[0m\u001b[0;34m}\u001b[0m\u001b[0;34m\u001b[0m\u001b[0;34m\u001b[0m\u001b[0m\n\u001b[1;32m      8\u001b[0m         \u001b[0;32mfor\u001b[0m \u001b[0mscore\u001b[0m \u001b[0;32min\u001b[0m \u001b[0mscores\u001b[0m\u001b[0;34m:\u001b[0m\u001b[0;34m\u001b[0m\u001b[0;34m\u001b[0m\u001b[0m\n\u001b[0;32m----> 9\u001b[0;31m             \u001b[0mnotes\u001b[0m \u001b[0;34m=\u001b[0m \u001b[0mget_notes\u001b[0m\u001b[0;34m(\u001b[0m\u001b[0mscore\u001b[0m\u001b[0;34m)\u001b[0m\u001b[0;34m\u001b[0m\u001b[0;34m\u001b[0m\u001b[0m\n\u001b[0m\u001b[1;32m     10\u001b[0m             \u001b[0mtonic_intervals\u001b[0m \u001b[0;34m=\u001b[0m \u001b[0mtransform_to_tonic_intervals\u001b[0m\u001b[0;34m(\u001b[0m\u001b[0mtonic_note\u001b[0m\u001b[0;34m[\u001b[0m\u001b[0mtonic_name\u001b[0m\u001b[0;34m]\u001b[0m\u001b[0;34m,\u001b[0m \u001b[0mnotes\u001b[0m\u001b[0;34m)\u001b[0m\u001b[0;34m\u001b[0m\u001b[0;34m\u001b[0m\u001b[0m\n\u001b[1;32m     11\u001b[0m             \u001b[0mngrams\u001b[0m \u001b[0;34m=\u001b[0m \u001b[0mgenerate_ngrams\u001b[0m\u001b[0;34m(\u001b[0m\u001b[0mtonic_intervals\u001b[0m\u001b[0;34m,\u001b[0m \u001b[0mn\u001b[0m\u001b[0;34m=\u001b[0m\u001b[0mngram_length\u001b[0m\u001b[0;34m)\u001b[0m\u001b[0;34m\u001b[0m\u001b[0;34m\u001b[0m\u001b[0m\n",
      "\u001b[0;32m<ipython-input-78-ca8ab75c1ee2>\u001b[0m in \u001b[0;36mget_notes\u001b[0;34m(score_filename)\u001b[0m\n\u001b[1;32m      4\u001b[0m     '''\n\u001b[1;32m      5\u001b[0m     \u001b[0mscore_path\u001b[0m \u001b[0;34m=\u001b[0m \u001b[0mos\u001b[0m\u001b[0;34m.\u001b[0m\u001b[0mpath\u001b[0m\u001b[0;34m.\u001b[0m\u001b[0mjoin\u001b[0m\u001b[0;34m(\u001b[0m\u001b[0mparsed_scores_root\u001b[0m\u001b[0;34m,\u001b[0m \u001b[0mscore_filename\u001b[0m\u001b[0;34m)\u001b[0m\u001b[0;34m\u001b[0m\u001b[0;34m\u001b[0m\u001b[0m\n\u001b[0;32m----> 6\u001b[0;31m     \u001b[0mscore\u001b[0m \u001b[0;34m=\u001b[0m \u001b[0mm21\u001b[0m\u001b[0;34m.\u001b[0m\u001b[0mconverter\u001b[0m\u001b[0;34m.\u001b[0m\u001b[0mparse\u001b[0m\u001b[0;34m(\u001b[0m\u001b[0mscore_path\u001b[0m\u001b[0;34m)\u001b[0m\u001b[0;34m\u001b[0m\u001b[0;34m\u001b[0m\u001b[0m\n\u001b[0m\u001b[1;32m      7\u001b[0m     \u001b[0mnotes\u001b[0m \u001b[0;34m=\u001b[0m \u001b[0mscore\u001b[0m\u001b[0;34m.\u001b[0m\u001b[0mparts\u001b[0m\u001b[0;34m[\u001b[0m\u001b[0;36m0\u001b[0m\u001b[0;34m]\u001b[0m\u001b[0;34m.\u001b[0m\u001b[0mflat\u001b[0m\u001b[0;34m.\u001b[0m\u001b[0mnotes\u001b[0m\u001b[0;34m\u001b[0m\u001b[0;34m\u001b[0m\u001b[0m\n\u001b[1;32m      8\u001b[0m     \u001b[0;32mreturn\u001b[0m \u001b[0mnotes\u001b[0m\u001b[0;34m\u001b[0m\u001b[0;34m\u001b[0m\u001b[0m\n",
      "\u001b[0;32m/usr/local/lib/python3.7/site-packages/music21/converter/__init__.py\u001b[0m in \u001b[0;36mparse\u001b[0;34m(value, *args, **keywords)\u001b[0m\n\u001b[1;32m   1125\u001b[0m     \u001b[0;32melif\u001b[0m \u001b[0;32mnot\u001b[0m \u001b[0misinstance\u001b[0m\u001b[0;34m(\u001b[0m\u001b[0mvalue\u001b[0m\u001b[0;34m,\u001b[0m \u001b[0mbytes\u001b[0m\u001b[0;34m)\u001b[0m \u001b[0;32mand\u001b[0m \u001b[0mos\u001b[0m\u001b[0;34m.\u001b[0m\u001b[0mpath\u001b[0m\u001b[0;34m.\u001b[0m\u001b[0mexists\u001b[0m\u001b[0;34m(\u001b[0m\u001b[0mvalueStr\u001b[0m\u001b[0;34m)\u001b[0m\u001b[0;34m:\u001b[0m\u001b[0;34m\u001b[0m\u001b[0;34m\u001b[0m\u001b[0m\n\u001b[1;32m   1126\u001b[0m         return parseFile(valueStr, number=number, format=m21Format,\n\u001b[0;32m-> 1127\u001b[0;31m                          forceSource=forceSource, **keywords)\n\u001b[0m\u001b[1;32m   1128\u001b[0m     \u001b[0;32melif\u001b[0m \u001b[0;32mnot\u001b[0m \u001b[0misinstance\u001b[0m\u001b[0;34m(\u001b[0m\u001b[0mvalue\u001b[0m\u001b[0;34m,\u001b[0m \u001b[0mbytes\u001b[0m\u001b[0;34m)\u001b[0m \u001b[0;32mand\u001b[0m \u001b[0mos\u001b[0m\u001b[0;34m.\u001b[0m\u001b[0mpath\u001b[0m\u001b[0;34m.\u001b[0m\u001b[0mexists\u001b[0m\u001b[0;34m(\u001b[0m\u001b[0mcommon\u001b[0m\u001b[0;34m.\u001b[0m\u001b[0mcleanpath\u001b[0m\u001b[0;34m(\u001b[0m\u001b[0mvalueStr\u001b[0m\u001b[0;34m)\u001b[0m\u001b[0;34m)\u001b[0m\u001b[0;34m:\u001b[0m\u001b[0;34m\u001b[0m\u001b[0;34m\u001b[0m\u001b[0m\n\u001b[1;32m   1129\u001b[0m         return parseFile(common.cleanpath(valueStr), number=number, format=m21Format,\n",
      "\u001b[0;32m/usr/local/lib/python3.7/site-packages/music21/converter/__init__.py\u001b[0m in \u001b[0;36mparseFile\u001b[0;34m(fp, number, format, forceSource, **keywords)\u001b[0m\n\u001b[1;32m   1005\u001b[0m     \u001b[0mv\u001b[0m \u001b[0;34m=\u001b[0m \u001b[0mConverter\u001b[0m\u001b[0;34m(\u001b[0m\u001b[0;34m)\u001b[0m\u001b[0;34m\u001b[0m\u001b[0;34m\u001b[0m\u001b[0m\n\u001b[1;32m   1006\u001b[0m     \u001b[0mfp\u001b[0m \u001b[0;34m=\u001b[0m \u001b[0mcommon\u001b[0m\u001b[0;34m.\u001b[0m\u001b[0mcleanpath\u001b[0m\u001b[0;34m(\u001b[0m\u001b[0mfp\u001b[0m\u001b[0;34m,\u001b[0m \u001b[0mreturnPathlib\u001b[0m\u001b[0;34m=\u001b[0m\u001b[0;32mTrue\u001b[0m\u001b[0;34m)\u001b[0m\u001b[0;34m\u001b[0m\u001b[0;34m\u001b[0m\u001b[0m\n\u001b[0;32m-> 1007\u001b[0;31m     \u001b[0mv\u001b[0m\u001b[0;34m.\u001b[0m\u001b[0mparseFile\u001b[0m\u001b[0;34m(\u001b[0m\u001b[0mfp\u001b[0m\u001b[0;34m,\u001b[0m \u001b[0mnumber\u001b[0m\u001b[0;34m=\u001b[0m\u001b[0mnumber\u001b[0m\u001b[0;34m,\u001b[0m \u001b[0mformat\u001b[0m\u001b[0;34m=\u001b[0m\u001b[0mformat\u001b[0m\u001b[0;34m,\u001b[0m \u001b[0mforceSource\u001b[0m\u001b[0;34m=\u001b[0m\u001b[0mforceSource\u001b[0m\u001b[0;34m,\u001b[0m \u001b[0;34m**\u001b[0m\u001b[0mkeywords\u001b[0m\u001b[0;34m)\u001b[0m\u001b[0;34m\u001b[0m\u001b[0;34m\u001b[0m\u001b[0m\n\u001b[0m\u001b[1;32m   1008\u001b[0m     \u001b[0;32mreturn\u001b[0m \u001b[0mv\u001b[0m\u001b[0;34m.\u001b[0m\u001b[0mstream\u001b[0m\u001b[0;34m\u001b[0m\u001b[0;34m\u001b[0m\u001b[0m\n\u001b[1;32m   1009\u001b[0m \u001b[0;34m\u001b[0m\u001b[0m\n",
      "\u001b[0;32m/usr/local/lib/python3.7/site-packages/music21/converter/__init__.py\u001b[0m in \u001b[0;36mparseFile\u001b[0;34m(self, fp, number, format, forceSource, storePickle, **keywords)\u001b[0m\n\u001b[1;32m    529\u001b[0m             \u001b[0menvironLocal\u001b[0m\u001b[0;34m.\u001b[0m\u001b[0mprintDebug\u001b[0m\u001b[0;34m(\u001b[0m\u001b[0;34m\"Loading Pickled version\"\u001b[0m\u001b[0;34m)\u001b[0m\u001b[0;34m\u001b[0m\u001b[0;34m\u001b[0m\u001b[0m\n\u001b[1;32m    530\u001b[0m             \u001b[0;32mtry\u001b[0m\u001b[0;34m:\u001b[0m\u001b[0;34m\u001b[0m\u001b[0;34m\u001b[0m\u001b[0m\n\u001b[0;32m--> 531\u001b[0;31m                 \u001b[0mself\u001b[0m\u001b[0;34m.\u001b[0m\u001b[0m_thawedStream\u001b[0m \u001b[0;34m=\u001b[0m \u001b[0mthaw\u001b[0m\u001b[0;34m(\u001b[0m\u001b[0mfpPickle\u001b[0m\u001b[0;34m,\u001b[0m \u001b[0mzipType\u001b[0m\u001b[0;34m=\u001b[0m\u001b[0;34m'zlib'\u001b[0m\u001b[0;34m)\u001b[0m\u001b[0;34m\u001b[0m\u001b[0;34m\u001b[0m\u001b[0m\n\u001b[0m\u001b[1;32m    532\u001b[0m             \u001b[0;32mexcept\u001b[0m \u001b[0mfreezeThaw\u001b[0m\u001b[0;34m.\u001b[0m\u001b[0mFreezeThawException\u001b[0m\u001b[0;34m:\u001b[0m\u001b[0;34m\u001b[0m\u001b[0;34m\u001b[0m\u001b[0m\n\u001b[1;32m    533\u001b[0m                 \u001b[0menvironLocal\u001b[0m\u001b[0;34m.\u001b[0m\u001b[0mwarn\u001b[0m\u001b[0;34m(\u001b[0m\u001b[0;34m\"Could not parse pickle, %s ...rewriting\"\u001b[0m \u001b[0;34m%\u001b[0m \u001b[0mfpPickle\u001b[0m\u001b[0;34m)\u001b[0m\u001b[0;34m\u001b[0m\u001b[0;34m\u001b[0m\u001b[0m\n",
      "\u001b[0;32m/usr/local/lib/python3.7/site-packages/music21/converter/__init__.py\u001b[0m in \u001b[0;36mthaw\u001b[0;34m(fp, zipType)\u001b[0m\n\u001b[1;32m   1198\u001b[0m     \u001b[0;32mfrom\u001b[0m \u001b[0mmusic21\u001b[0m \u001b[0;32mimport\u001b[0m \u001b[0mfreezeThaw\u001b[0m\u001b[0;34m\u001b[0m\u001b[0;34m\u001b[0m\u001b[0m\n\u001b[1;32m   1199\u001b[0m     \u001b[0mv\u001b[0m \u001b[0;34m=\u001b[0m \u001b[0mfreezeThaw\u001b[0m\u001b[0;34m.\u001b[0m\u001b[0mStreamThawer\u001b[0m\u001b[0;34m(\u001b[0m\u001b[0;34m)\u001b[0m\u001b[0;34m\u001b[0m\u001b[0;34m\u001b[0m\u001b[0m\n\u001b[0;32m-> 1200\u001b[0;31m     \u001b[0mv\u001b[0m\u001b[0;34m.\u001b[0m\u001b[0mopen\u001b[0m\u001b[0;34m(\u001b[0m\u001b[0mfp\u001b[0m\u001b[0;34m,\u001b[0m \u001b[0mzipType\u001b[0m\u001b[0;34m=\u001b[0m\u001b[0mzipType\u001b[0m\u001b[0;34m)\u001b[0m\u001b[0;34m\u001b[0m\u001b[0;34m\u001b[0m\u001b[0m\n\u001b[0m\u001b[1;32m   1201\u001b[0m     \u001b[0;32mreturn\u001b[0m \u001b[0mv\u001b[0m\u001b[0;34m.\u001b[0m\u001b[0mstream\u001b[0m\u001b[0;34m\u001b[0m\u001b[0;34m\u001b[0m\u001b[0m\n\u001b[1;32m   1202\u001b[0m \u001b[0;34m\u001b[0m\u001b[0m\n",
      "\u001b[0;32m/usr/local/lib/python3.7/site-packages/music21/freezeThaw.py\u001b[0m in \u001b[0;36mopen\u001b[0;34m(self, fp, zipType)\u001b[0m\n\u001b[1;32m    965\u001b[0m             \u001b[0;32mraise\u001b[0m \u001b[0mFreezeThawException\u001b[0m\u001b[0;34m(\u001b[0m\u001b[0;34m'bad StreamFreezer format: %s'\u001b[0m \u001b[0;34m%\u001b[0m \u001b[0mfmt\u001b[0m\u001b[0;34m)\u001b[0m\u001b[0;34m\u001b[0m\u001b[0;34m\u001b[0m\u001b[0m\n\u001b[1;32m    966\u001b[0m \u001b[0;34m\u001b[0m\u001b[0m\n\u001b[0;32m--> 967\u001b[0;31m         \u001b[0mself\u001b[0m\u001b[0;34m.\u001b[0m\u001b[0mstream\u001b[0m \u001b[0;34m=\u001b[0m \u001b[0mself\u001b[0m\u001b[0;34m.\u001b[0m\u001b[0munpackStream\u001b[0m\u001b[0;34m(\u001b[0m\u001b[0mstorage\u001b[0m\u001b[0;34m)\u001b[0m\u001b[0;34m\u001b[0m\u001b[0;34m\u001b[0m\u001b[0m\n\u001b[0m\u001b[1;32m    968\u001b[0m \u001b[0;34m\u001b[0m\u001b[0m\n\u001b[1;32m    969\u001b[0m     \u001b[0;32mdef\u001b[0m \u001b[0mopenStr\u001b[0m\u001b[0;34m(\u001b[0m\u001b[0mself\u001b[0m\u001b[0;34m,\u001b[0m \u001b[0mfileData\u001b[0m\u001b[0;34m,\u001b[0m \u001b[0mpickleFormat\u001b[0m\u001b[0;34m=\u001b[0m\u001b[0;32mNone\u001b[0m\u001b[0;34m)\u001b[0m\u001b[0;34m:\u001b[0m\u001b[0;34m\u001b[0m\u001b[0;34m\u001b[0m\u001b[0m\n",
      "\u001b[0;32m/usr/local/lib/python3.7/site-packages/music21/freezeThaw.py\u001b[0m in \u001b[0;36munpackStream\u001b[0;34m(self, storage)\u001b[0m\n\u001b[1;32m    904\u001b[0m         \u001b[0mstreamObj\u001b[0m \u001b[0;34m=\u001b[0m \u001b[0mstorage\u001b[0m\u001b[0;34m[\u001b[0m\u001b[0;34m'stream'\u001b[0m\u001b[0;34m]\u001b[0m\u001b[0;34m\u001b[0m\u001b[0;34m\u001b[0m\u001b[0m\n\u001b[1;32m    905\u001b[0m \u001b[0;34m\u001b[0m\u001b[0m\n\u001b[0;32m--> 906\u001b[0;31m         \u001b[0mself\u001b[0m\u001b[0;34m.\u001b[0m\u001b[0mteardownSerializationScaffold\u001b[0m\u001b[0;34m(\u001b[0m\u001b[0mstreamObj\u001b[0m\u001b[0;34m)\u001b[0m\u001b[0;34m\u001b[0m\u001b[0;34m\u001b[0m\u001b[0m\n\u001b[0m\u001b[1;32m    907\u001b[0m         \u001b[0;32mreturn\u001b[0m \u001b[0mstreamObj\u001b[0m\u001b[0;34m\u001b[0m\u001b[0;34m\u001b[0m\u001b[0m\n\u001b[1;32m    908\u001b[0m \u001b[0;34m\u001b[0m\u001b[0m\n",
      "\u001b[0;32m/usr/local/lib/python3.7/site-packages/music21/freezeThaw.py\u001b[0m in \u001b[0;36mteardownSerializationScaffold\u001b[0;34m(self, streamObj)\u001b[0m\n\u001b[1;32m    782\u001b[0m         \u001b[0mstreamObj\u001b[0m\u001b[0;34m.\u001b[0m\u001b[0mautoSort\u001b[0m \u001b[0;34m=\u001b[0m \u001b[0;32mFalse\u001b[0m\u001b[0;34m\u001b[0m\u001b[0;34m\u001b[0m\u001b[0m\n\u001b[1;32m    783\u001b[0m \u001b[0;34m\u001b[0m\u001b[0m\n\u001b[0;32m--> 784\u001b[0;31m         \u001b[0mself\u001b[0m\u001b[0;34m.\u001b[0m\u001b[0mrestoreElementsFromTuples\u001b[0m\u001b[0;34m(\u001b[0m\u001b[0mstreamObj\u001b[0m\u001b[0;34m)\u001b[0m\u001b[0;34m\u001b[0m\u001b[0;34m\u001b[0m\u001b[0m\n\u001b[0m\u001b[1;32m    785\u001b[0m \u001b[0;34m\u001b[0m\u001b[0m\n\u001b[1;32m    786\u001b[0m         \u001b[0mself\u001b[0m\u001b[0;34m.\u001b[0m\u001b[0mrestoreStreamStatusClient\u001b[0m\u001b[0;34m(\u001b[0m\u001b[0mstreamObj\u001b[0m\u001b[0;34m)\u001b[0m\u001b[0;34m\u001b[0m\u001b[0;34m\u001b[0m\u001b[0m\n",
      "\u001b[0;32m/usr/local/lib/python3.7/site-packages/music21/freezeThaw.py\u001b[0m in \u001b[0;36mrestoreElementsFromTuples\u001b[0;34m(self, streamObj)\u001b[0m\n\u001b[1;32m    883\u001b[0m                 \u001b[0;31m# if the spanner stores a part or something in the Stream\u001b[0m\u001b[0;34m\u001b[0m\u001b[0;34m\u001b[0m\u001b[0;34m\u001b[0m\u001b[0m\n\u001b[1;32m    884\u001b[0m                 \u001b[0;31m# for instance in a StaffGroup object\u001b[0m\u001b[0;34m\u001b[0m\u001b[0;34m\u001b[0m\u001b[0;34m\u001b[0m\u001b[0m\n\u001b[0;32m--> 885\u001b[0;31m                 \u001b[0mself\u001b[0m\u001b[0;34m.\u001b[0m\u001b[0mrestoreElementsFromTuples\u001b[0m\u001b[0;34m(\u001b[0m\u001b[0msubElement\u001b[0m\u001b[0;34m)\u001b[0m\u001b[0;34m\u001b[0m\u001b[0;34m\u001b[0m\u001b[0m\n\u001b[0m\u001b[1;32m    886\u001b[0m \u001b[0;34m\u001b[0m\u001b[0m\n\u001b[1;32m    887\u001b[0m     \u001b[0;32mdef\u001b[0m \u001b[0mrestoreStreamStatusClient\u001b[0m\u001b[0;34m(\u001b[0m\u001b[0mself\u001b[0m\u001b[0;34m,\u001b[0m \u001b[0mstreamObj\u001b[0m\u001b[0;34m)\u001b[0m\u001b[0;34m:\u001b[0m\u001b[0;34m\u001b[0m\u001b[0;34m\u001b[0m\u001b[0m\n",
      "\u001b[0;32m/usr/local/lib/python3.7/site-packages/music21/freezeThaw.py\u001b[0m in \u001b[0;36mrestoreElementsFromTuples\u001b[0;34m(self, streamObj)\u001b[0m\n\u001b[1;32m    883\u001b[0m                 \u001b[0;31m# if the spanner stores a part or something in the Stream\u001b[0m\u001b[0;34m\u001b[0m\u001b[0;34m\u001b[0m\u001b[0;34m\u001b[0m\u001b[0m\n\u001b[1;32m    884\u001b[0m                 \u001b[0;31m# for instance in a StaffGroup object\u001b[0m\u001b[0;34m\u001b[0m\u001b[0;34m\u001b[0m\u001b[0;34m\u001b[0m\u001b[0m\n\u001b[0;32m--> 885\u001b[0;31m                 \u001b[0mself\u001b[0m\u001b[0;34m.\u001b[0m\u001b[0mrestoreElementsFromTuples\u001b[0m\u001b[0;34m(\u001b[0m\u001b[0msubElement\u001b[0m\u001b[0;34m)\u001b[0m\u001b[0;34m\u001b[0m\u001b[0;34m\u001b[0m\u001b[0m\n\u001b[0m\u001b[1;32m    886\u001b[0m \u001b[0;34m\u001b[0m\u001b[0m\n\u001b[1;32m    887\u001b[0m     \u001b[0;32mdef\u001b[0m \u001b[0mrestoreStreamStatusClient\u001b[0m\u001b[0;34m(\u001b[0m\u001b[0mself\u001b[0m\u001b[0;34m,\u001b[0m \u001b[0mstreamObj\u001b[0m\u001b[0;34m)\u001b[0m\u001b[0;34m:\u001b[0m\u001b[0;34m\u001b[0m\u001b[0;34m\u001b[0m\u001b[0m\n",
      "\u001b[0;32m/usr/local/lib/python3.7/site-packages/music21/freezeThaw.py\u001b[0m in \u001b[0;36mrestoreElementsFromTuples\u001b[0;34m(self, streamObj)\u001b[0m\n\u001b[1;32m    866\u001b[0m                 \u001b[0;32mif\u001b[0m \u001b[0moffset\u001b[0m \u001b[0;34m!=\u001b[0m \u001b[0;34m'end'\u001b[0m\u001b[0;34m:\u001b[0m\u001b[0;34m\u001b[0m\u001b[0;34m\u001b[0m\u001b[0m\n\u001b[1;32m    867\u001b[0m                     \u001b[0;32mtry\u001b[0m\u001b[0;34m:\u001b[0m\u001b[0;34m\u001b[0m\u001b[0;34m\u001b[0m\u001b[0m\n\u001b[0;32m--> 868\u001b[0;31m                         \u001b[0mstreamObj\u001b[0m\u001b[0;34m.\u001b[0m\u001b[0mcoreInsert\u001b[0m\u001b[0;34m(\u001b[0m\u001b[0moffset\u001b[0m\u001b[0;34m,\u001b[0m \u001b[0me\u001b[0m\u001b[0;34m)\u001b[0m\u001b[0;34m\u001b[0m\u001b[0;34m\u001b[0m\u001b[0m\n\u001b[0m\u001b[1;32m    869\u001b[0m                     \u001b[0;32mexcept\u001b[0m \u001b[0mAttributeError\u001b[0m\u001b[0;34m:\u001b[0m\u001b[0;34m\u001b[0m\u001b[0;34m\u001b[0m\u001b[0m\n\u001b[1;32m    870\u001b[0m                         \u001b[0mprint\u001b[0m\u001b[0;34m(\u001b[0m\u001b[0;34m'Problem in decoding... some debug info...'\u001b[0m\u001b[0;34m)\u001b[0m\u001b[0;34m\u001b[0m\u001b[0;34m\u001b[0m\u001b[0m\n",
      "\u001b[0;32m/usr/local/lib/python3.7/site-packages/music21/stream/core.py\u001b[0m in \u001b[0;36mcoreInsert\u001b[0;34m(self, offset, element, ignoreSort, setActiveSite)\u001b[0m\n\u001b[1;32m     79\u001b[0m \u001b[0;31m#            if self.isSorted is True and self.highestTime <= offset:\u001b[0m\u001b[0;34m\u001b[0m\u001b[0;34m\u001b[0m\u001b[0;34m\u001b[0m\u001b[0m\n\u001b[1;32m     80\u001b[0m \u001b[0;31m#                storeSorted = True\u001b[0m\u001b[0;34m\u001b[0m\u001b[0;34m\u001b[0m\u001b[0;34m\u001b[0m\u001b[0m\n\u001b[0;32m---> 81\u001b[0;31m             \u001b[0;32mif\u001b[0m \u001b[0mself\u001b[0m\u001b[0;34m.\u001b[0m\u001b[0misSorted\u001b[0m \u001b[0;32mis\u001b[0m \u001b[0;32mTrue\u001b[0m\u001b[0;34m:\u001b[0m\u001b[0;34m\u001b[0m\u001b[0;34m\u001b[0m\u001b[0m\n\u001b[0m\u001b[1;32m     82\u001b[0m                 \u001b[0mht\u001b[0m \u001b[0;34m=\u001b[0m \u001b[0mself\u001b[0m\u001b[0;34m.\u001b[0m\u001b[0mhighestTime\u001b[0m\u001b[0;34m\u001b[0m\u001b[0;34m\u001b[0m\u001b[0m\n\u001b[1;32m     83\u001b[0m                 \u001b[0;32mif\u001b[0m \u001b[0mht\u001b[0m \u001b[0;34m<\u001b[0m \u001b[0moffset\u001b[0m\u001b[0;34m:\u001b[0m\u001b[0;34m\u001b[0m\u001b[0;34m\u001b[0m\u001b[0m\n",
      "\u001b[0;31mKeyboardInterrupt\u001b[0m: "
     ]
    }
   ],
   "source": [
    "# Generate ngrams\n",
    "occurances = {}\n",
    "#ngram_length = 8\n",
    "\n",
    "for ngram_length in range(5, 16):\n",
    "    for tonic_name, scores in scores_by_tonic.items():\n",
    "        occurances[tonic_name] = {}\n",
    "        for score in scores:\n",
    "            notes = get_notes(score)\n",
    "            tonic_intervals = transform_to_tonic_intervals(tonic_note[tonic_name], notes)\n",
    "            ngrams = generate_ngrams(tonic_intervals, n=ngram_length)\n",
    "            for ngram in ngrams:\n",
    "                if not str(ngram) in occurances[tonic_name]:\n",
    "                    occurances[tonic_name][str(ngram)] = 0\n",
    "                occurances[tonic_name][str(ngram)] += 1\n"
   ]
  },
  {
   "cell_type": "code",
   "execution_count": 85,
   "metadata": {},
   "outputs": [
    {
     "data": {
      "text/plain": [
       "dict_keys(['dugah', 'rast'])"
      ]
     },
     "execution_count": 85,
     "metadata": {},
     "output_type": "execute_result"
    }
   ],
   "source": [
    "occurances.keys()"
   ]
  },
  {
   "cell_type": "code",
   "execution_count": 97,
   "metadata": {},
   "outputs": [],
   "source": [
    "ranked_ngrams = {}\n",
    "for tonic_name, occ in occurances.items():\n",
    "    ranked_ngrams[tonic_name] =  [(k, occ[k]) for k in sorted(occ, key=occ.get, reverse=True)]\n",
    "    \n",
    "#ranked_ngrams = [(k, occurances[k]) for k in sorted(occurances, key=occurances.get, reverse=True)]"
   ]
  },
  {
   "cell_type": "code",
   "execution_count": null,
   "metadata": {},
   "outputs": [],
   "source": [
    "occurances['dugah'][:10]"
   ]
  },
  {
   "cell_type": "code",
   "execution_count": 108,
   "metadata": {
    "scrolled": true
   },
   "outputs": [
    {
     "data": {
      "text/plain": [
       "[('[0, 0, 0, 0, 0, 0, 0, 0]', 176),\n",
       " ('[1200, 1000, 788.889, 700, 500, 288.889, 500, 700]', 99),\n",
       " ('[1200, 1200, 1200, 1200, 1200, 1200, 1200, 1200]', 84),\n",
       " ('[200, 377.778, 500, 900, 700, 500, 377.778, 200]', 74),\n",
       " ('[1200, 1000, 788.889, 700, 500, 288.889, 88.889, 0]', 74),\n",
       " ('[500, 700, 788.889, 700, 500, 288.889, 200, 0]', 65),\n",
       " ('[788.889, 700, 500, 288.889, 200, 0, -111.111, 0]', 59),\n",
       " ('[200, 288.889, 500, 700, 788.889, 700, 500, 288.889]', 58),\n",
       " ('[1200, 1088.889, 811.111, 700, 500, 377.778, 500, 700]', 58),\n",
       " ('[288.889, 500, 700, 788.889, 700, 500, 288.889, 200]', 57),\n",
       " ('[700, 811.111, 1088.889, 1200, 1088.889, 811.111, 700, 500]', 55),\n",
       " ('[1200, 1088.889, 811.111, 700, 500, 377.778, 111.111, 0]', 55),\n",
       " ('[1200, 1000, 1000, 788.889, 788.889, 700, 700, 500]', 55),\n",
       " ('[900, 700, 500, 377.778, 200, 0, 200, 377.778]', 53),\n",
       " ('[700, 788.889, 1000, 1200, 1000, 788.889, 700, 500]', 53),\n",
       " ('[500, 288.889, 500, 700, 788.889, 700, 500, 288.889]', 52),\n",
       " ('[500, 400, 200, 0, -88.889, -300, -88.889, 0]', 52),\n",
       " ('[1000, 1000, 1000, 1000, 1000, 1000, 1000, 1000]', 52),\n",
       " ('[700, 500, 377.778, 200, 0, 200, 377.778, 500]', 51),\n",
       " ('[200, 377.778, 500, 700, 900, 700, 500, 377.778]', 51)]"
      ]
     },
     "execution_count": 108,
     "metadata": {},
     "output_type": "execute_result"
    }
   ],
   "source": [
    "ranked_ngrams['rast'][:10]"
   ]
  },
  {
   "cell_type": "code",
   "execution_count": 17,
   "metadata": {},
   "outputs": [],
   "source": [
    "def ngram_to_intervals(ngram):\n",
    "    return [float(item) for item in ngram[1:-1].split(',')]\n",
    "\n",
    "def ngram_to_notes(ngram, base_note=\"C2\"):\n",
    "    '''\n",
    "    Transforms ngram to music21 stream\n",
    "    '''\n",
    "    intervals = ngram_to_intervals(ngram)\n",
    "    stream = m21.stream.Stream()\n",
    "    \n",
    "    note = m21.note.Note(base_note)\n",
    "    stream.append(note)\n",
    "    accumulated_interval = 0\n",
    "    for interval in intervals:\n",
    "        note = m21.note.Note(base_note)\n",
    "        accumulated_interval += interval*200/9\n",
    "        note.pitch.microtone = accumulated_interval\n",
    "        stream.append(note)\n",
    "    return stream\n",
    "\n",
    "def play_ngram(ngram, base_note=\"C2\"):\n",
    "    '''\n",
    "    Plays given ngram with use of pygame\n",
    "    '''\n",
    "    stream = ngram_to_notes(ngram, base_note=base_note)\n",
    "    player = m21.midi.realtime.StreamPlayer(stream).play()"
   ]
  },
  {
   "cell_type": "code",
   "execution_count": null,
   "metadata": {
    "scrolled": true
   },
   "outputs": [],
   "source": [
    "# Having fun\n",
    "import random\n",
    "# Take 0,1% first most frequent ngrams\n",
    "ngrams = ranked_ngrams.copy()[:int(len(ranked_ngrams)/1000)]\n",
    "# Generate random permutation\n",
    "ngrams = np.random.permutation(ngrams)\n",
    "# Concatenate first 6 ngrams\n",
    "intervals = []\n",
    "for ngram, _ in ngrams:\n",
    "    intervals += ngram_to_intervals(ngram)\n",
    "# Play resulting phrase\n",
    "play_ngram(str(intervals), 'C4')"
   ]
  },
  {
   "cell_type": "code",
   "execution_count": 18,
   "metadata": {},
   "outputs": [
    {
     "name": "stdout",
     "output_type": "stream",
     "text": [
      "pygame 1.9.4\n",
      "Hello from the pygame community. https://www.pygame.org/contribute.html\n"
     ]
    }
   ],
   "source": [
    "play_ngram('[8.0, 5.5, 18.0, -9.0, -9.0, -5.5, -8.0, -9.0]', base_note='D2')"
   ]
  },
  {
   "cell_type": "code",
   "execution_count": null,
   "metadata": {},
   "outputs": [],
   "source": []
  }
 ],
 "metadata": {
  "kernelspec": {
   "display_name": "Python 3",
   "language": "python",
   "name": "python3"
  },
  "language_info": {
   "codemirror_mode": {
    "name": "ipython",
    "version": 3
   },
   "file_extension": ".py",
   "mimetype": "text/x-python",
   "name": "python",
   "nbconvert_exporter": "python",
   "pygments_lexer": "ipython3",
   "version": "3.7.2"
  }
 },
 "nbformat": 4,
 "nbformat_minor": 2
}
