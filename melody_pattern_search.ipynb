{
 "cells": [
  {
   "cell_type": "code",
   "execution_count": 3,
   "metadata": {},
   "outputs": [],
   "source": [
    "import music21 as m21\n",
    "import os\n",
    "import glob\n",
    "import numpy as np\n",
    "import matplotlib.pyplot as plt\n",
    "import xml.etree.ElementTree as ET"
   ]
  },
  {
   "cell_type": "code",
   "execution_count": 4,
   "metadata": {},
   "outputs": [],
   "source": [
    "# Set custom MuseScore path (Comment it out if necessary)\n",
    "m21.environment.UserSettings()['musescoreDirectPNGPath'] = \"/Applications/MuseScore 3.app/Contents/MacOS/mscore\"\n",
    "\n",
    "dataset_root = './SymbTr-2.4.3'\n",
    "scores_root = os.path.join(dataset_root, 'MusicXML')\n",
    "score_filenames = os.listdir(scores_root)"
   ]
  },
  {
   "cell_type": "markdown",
   "metadata": {},
   "source": [
    "## Selecting scores from the dataset\n",
    "\n",
    "In this part we are preparing two subsets of makam scores from all the available scores in the dataset.\n",
    "We decided to work on dugah and rast makams. \n",
    "Dugah is characterised by tonic in A. \n",
    "Rast has a tonic in G."
   ]
  },
  {
   "cell_type": "code",
   "execution_count": 6,
   "metadata": {},
   "outputs": [
    {
     "name": "stdout",
     "output_type": "stream",
     "text": [
      "935 scores in dugah makam\n",
      "501 scores in rast makam\n"
     ]
    }
   ],
   "source": [
    "# filter the scores\n",
    "makams_by_tonic = {\n",
    "    \"dugah\": ['hicaz', 'dugah', 'huseyni', 'acemkurdi', 'isfahan', 'hicaz_humayun', 'sehnaz', \n",
    "                'karcigar', 'ussak', 'gerdaniye', 'muhayyerkurdi', 'saba', 'nisaburek', 'buselik',\n",
    "                'muhayyer', 'beyati', 'tahir', 'neva'],\n",
    "    \"rast\": ['mahur', 'rast', 'nikriz', 'hicazkar', 'nihavent', 'kurdilihicazkar']\n",
    "}\n",
    "\n",
    "scores_by_tonic = {\n",
    "    \"dugah\": [],\n",
    "    \"rast\": []\n",
    "}\n",
    "\n",
    "tonic_note = {\n",
    "    \"dugah\": m21.note.Note(\"A\"),\n",
    "    \"rast\": m21.note.Note(\"G\")\n",
    "}\n",
    "\n",
    "for score in score_filenames:\n",
    "    score_makam = score.split('--')[0]\n",
    "    for tonic in makams_by_tonic.keys():\n",
    "        if score_makam in makams_by_tonic[tonic]:\n",
    "            scores_by_tonic[tonic].append(score)\n",
    "\n",
    "all_scores = scores_by_tonic[\"dugah\"] + scores_by_tonic[\"rast\"]\n",
    "\n",
    "for tonic, scores in scores_by_tonic.items():\n",
    "    print(\"%d scores in %s makam\" % (len(scores), tonic))"
   ]
  },
  {
   "cell_type": "markdown",
   "metadata": {},
   "source": [
    "## Preprocessing scores\n",
    "All the MusicXML scores have to be preprocessed before we start working on them. There is a couple of XML tags that are not supported by music21. For this reason, we are removing them before moving on."
   ]
  },
  {
   "cell_type": "code",
   "execution_count": 7,
   "metadata": {},
   "outputs": [],
   "source": [
    "# Create a directory for parsed scores\n",
    "parsed_scores_root = \"./parsed_scores\"\n",
    "try:  \n",
    "    os.mkdir(parsed_scores_root)\n",
    "except OSError:  \n",
    "    pass"
   ]
  },
  {
   "cell_type": "code",
   "execution_count": 8,
   "metadata": {
    "scrolled": false
   },
   "outputs": [],
   "source": [
    "def parse_score(score_filename):\n",
    "    '''\n",
    "    Removes MusicXML information that may be useless or misleading in Makam context.\n",
    "    Moreover some of the MXL tags are not supported by music21.\n",
    "    '''\n",
    "    tree = ET.parse(os.path.join(scores_root, score_filename))\n",
    "    root = tree.getroot()\n",
    "    \n",
    "    for k in root.iter('key'):\n",
    "        for ks in k.findall('key-step'):\n",
    "            k.remove(ks)\n",
    "        for ka in k.findall('key-accidental'):\n",
    "            k.remove(ka)\n",
    "        for ka in k.findall('key-alter'):\n",
    "            k.remove(ka)\n",
    "            \n",
    "    # Save the new xml files to be later loaded with music21\n",
    "    new_score = os.path.join(parsed_scores_root, score_filename)\n",
    "    tree.write(new_score)"
   ]
  },
  {
   "cell_type": "code",
   "execution_count": 9,
   "metadata": {},
   "outputs": [],
   "source": [
    "for score_name in all_scores:\n",
    "    parse_score(score_name)"
   ]
  },
  {
   "cell_type": "markdown",
   "metadata": {},
   "source": [
    "## Non-standard Makam accidentals handling\n",
    "Makam music is using a different octave division than European music. One octave is normally divided into 53 equal parts, sometimes called Commas. Turkish makam is using Holdrian-Mercator commas (Hc). To handle the intervals calculation properly, we have to implement our own methods dealing with provided intervals correctly. These two functions do the job."
   ]
  },
  {
   "cell_type": "code",
   "execution_count": 12,
   "metadata": {},
   "outputs": [],
   "source": [
    "# Number of comas added by an accidental\n",
    "accidental_mapping = {\n",
    "    'double-slash-flat': -8,\n",
    "    'flat': -5,\n",
    "    'slash-flat': -4,\n",
    "    'quater-flat': -1,\n",
    "    'half-flat': -1,\n",
    "    \n",
    "    'quarter-sharp': 1,\n",
    "    'half-sharp': 1,\n",
    "    'sharp': 4,\n",
    "    'slash-quarter-sharp': 5,\n",
    "    'slash-sharp': 8,\n",
    "}\n",
    "\n",
    "def comma_interval(noteA, noteB):\n",
    "    '''\n",
    "    In Makam music each whole tone is divided into 9 \"Commas\".\n",
    "    This function returns number of Commas in between two notes, taking into\n",
    "    account non-standard accidental interpretation.\n",
    "    \n",
    "    Parameters:\n",
    "        * duration [Boolean] - should note duration be included in the interval?\n",
    "    Returns:\n",
    "        * if duration=True - list of tuples of (interval, duration)\n",
    "        * if duration=False - list of intervals\n",
    "    '''\n",
    "    for note in [noteA, noteB]:\n",
    "        if note.pitch.accidental:\n",
    "            acc_name = note.pitch.accidental.name\n",
    "            note.pitch.microtone = accidental_mapping[acc_name]*200/9\n",
    "            note.pitch.accidental = None\n",
    "    \n",
    "    interval = np.round(9*m21.interval.notesToChromatic(noteA, noteB).semitones*100/200, decimals=2)\n",
    "    if duration:\n",
    "        return (interval, noteB.duration.quarterLength)\n",
    "    else:\n",
    "        return interval\n",
    "    \n",
    "\n",
    "def cents_interval(noteA, noteB, duration=False):\n",
    "    '''\n",
    "    In Makam music each whole tone is divided into 9 \"Commas\".\n",
    "    This function returns number of cents in between two notes, taking into\n",
    "    account non-standard accidental interpretation.\n",
    "    \n",
    "    Parameters:\n",
    "        * duration [Boolean] - should note duration be included in the interval?\n",
    "    Returns:\n",
    "        * if duration=True - list of tuples of (interval, duration)\n",
    "        * if duration=False - list of intervals\n",
    "    '''\n",
    "    for note in [noteA, noteB]:\n",
    "        if note.pitch.accidental:\n",
    "            acc_name = note.pitch.accidental.name\n",
    "            note.pitch.microtone = accidental_mapping[acc_name]*200/9\n",
    "            note.pitch.accidental = None\n",
    "    \n",
    "    interval = np.round(m21.interval.notesToChromatic(noteA, noteB).semitones*100, decimals=3)\n",
    "    if duration:\n",
    "        return (interval, noteB.duration.quarterLength)\n",
    "    else:\n",
    "        return interval\n",
    "        \n",
    "    "
   ]
  },
  {
   "cell_type": "code",
   "execution_count": 40,
   "metadata": {},
   "outputs": [
    {
     "data": {
      "text/plain": [
       "211.111"
      ]
     },
     "execution_count": 40,
     "metadata": {},
     "output_type": "execute_result"
    }
   ],
   "source": [
    "# Testing intervals\n",
    "# noteA = m21.note.Note(\"C2\")\n",
    "# noteB = m21.note.Note(\"C2\")\n",
    "# acc = m21.pitch.Accidental()\n",
    "# acc.name = \"slash-sharp\"\n",
    "# noteB.pitch.accidental = acc\n",
    "# comma_interval(noteA, noteB)\n",
    "#re = m21.note.Note(\"D\")\n",
    "#re.pitch.accidental=\"sharp\"\n",
    "#fa = m21.note.Note(\"F\")\n",
    "#interval = m21.interval.notesToChromatic(re, fa)\n",
    "#cents_interval(re, fa)"
   ]
  },
  {
   "cell_type": "markdown",
   "metadata": {},
   "source": [
    "## Helper methods\n",
    "We need a couple of methods before generating n-grams. They are for extracting notes from score, calculating intervals, etc."
   ]
  },
  {
   "cell_type": "code",
   "execution_count": 13,
   "metadata": {},
   "outputs": [],
   "source": [
    "def get_notes(score_filename):\n",
    "    '''\n",
    "    Returns list of notes from a score,\n",
    "    '''\n",
    "    score_path = os.path.join(parsed_scores_root, score_filename)\n",
    "    score = m21.converter.parse(score_path)\n",
    "    notes = score.parts[0].flat.notes\n",
    "    return notes\n",
    "\n",
    "def transform_to_intervals(notes, duration=False):\n",
    "    '''\n",
    "    Returns a list of a relative cent distances in between consecutive notes.\n",
    "    '''\n",
    "    intervals = [0]\n",
    "    for i in range(len(notes)-1):\n",
    "        noteA = notes[i]\n",
    "        noteB = notes[i+1]\n",
    "        intervals.append(cents_interval(noteA, noteB, duration=duration))\n",
    "    return intervals\n",
    "\n",
    "def transform_to_tonic_intervals(tonic, notes, duration=False):\n",
    "    '''\n",
    "    Returns a list of cent distances from a given tonic note.\n",
    "    '''\n",
    "    intervals = []\n",
    "    for note in notes:\n",
    "        intervals.append(cents_interval(tonic, note, duration=duration))\n",
    "    return intervals\n",
    "\n",
    "def get_note_name(note):\n",
    "    '''\n",
    "    Helper method returning note string including non-standard makam accidentals.\n",
    "    '''\n",
    "    accidental = note.pitch.accidental.name if note.pitch.accidental else ''\n",
    "    return \"%s%d %s\" % (note.name, note.octave, accidental)"
   ]
  },
  {
   "cell_type": "markdown",
   "metadata": {},
   "source": [
    "## Pattern search\n",
    "At this step we are calculating defined length n-grams and calculating the occurances dictionary. Next, we sort the dictionary to get a list of tupples defined as [(1st_most_popular_ngram, number_of_occurances), ..., and so on ]"
   ]
  },
  {
   "cell_type": "code",
   "execution_count": 14,
   "metadata": {},
   "outputs": [],
   "source": [
    "def generate_ngrams(values, n=4):\n",
    "    '''\n",
    "    Returns a list of ngrams of length n\n",
    "    '''\n",
    "    ngrams = []\n",
    "    for i in range(len(values)-n):\n",
    "        ngrams.append(values[i:i+n])\n",
    "    return ngrams\n",
    "    "
   ]
  },
  {
   "cell_type": "code",
   "execution_count": 16,
   "metadata": {
    "scrolled": true
   },
   "outputs": [],
   "source": [
    "# Generate ngrams\n",
    "occurances = {}\n",
    "ngram_length = 5\n",
    "\n",
    "for tonic_name, scores in scores_by_tonic.items():\n",
    "    occurances[tonic_name] = {}\n",
    "    for score in scores:\n",
    "        notes = get_notes(score)\n",
    "        tonic_intervals = transform_to_tonic_intervals(tonic_note[tonic_name], notes)\n",
    "        ngrams = generate_ngrams(tonic_intervals, n=ngram_length)\n",
    "        for ngram in ngrams:\n",
    "            if not str(ngram) in occurances[tonic_name]:\n",
    "                occurances[tonic_name][str(ngram)] = 0\n",
    "            occurances[tonic_name][str(ngram)] += 1\n"
   ]
  },
  {
   "cell_type": "code",
   "execution_count": 17,
   "metadata": {},
   "outputs": [
    {
     "data": {
      "text/plain": [
       "dict_keys(['dugah', 'rast'])"
      ]
     },
     "execution_count": 17,
     "metadata": {},
     "output_type": "execute_result"
    }
   ],
   "source": [
    "occurances.keys()"
   ]
  },
  {
   "cell_type": "code",
   "execution_count": 18,
   "metadata": {},
   "outputs": [],
   "source": [
    "ranked_ngrams = {}\n",
    "for tonic_name, occ in occurances.items():\n",
    "    ranked_ngrams[tonic_name] =  [(k, occ[k]) for k in sorted(occ, key=occ.get, reverse=True)]\n",
    "    \n",
    "#ranked_ngrams = [(k, occurances[k]) for k in sorted(occurances, key=occurances.get, reverse=True)]"
   ]
  },
  {
   "cell_type": "code",
   "execution_count": 19,
   "metadata": {},
   "outputs": [
    {
     "ename": "TypeError",
     "evalue": "unhashable type: 'slice'",
     "output_type": "error",
     "traceback": [
      "\u001b[0;31m---------------------------------------------------------------------------\u001b[0m",
      "\u001b[0;31mTypeError\u001b[0m                                 Traceback (most recent call last)",
      "\u001b[0;32m<ipython-input-19-9921c729e0ef>\u001b[0m in \u001b[0;36m<module>\u001b[0;34m\u001b[0m\n\u001b[0;32m----> 1\u001b[0;31m \u001b[0moccurances\u001b[0m\u001b[0;34m[\u001b[0m\u001b[0;34m'dugah'\u001b[0m\u001b[0;34m]\u001b[0m\u001b[0;34m[\u001b[0m\u001b[0;34m:\u001b[0m\u001b[0;36m10\u001b[0m\u001b[0;34m]\u001b[0m\u001b[0;34m\u001b[0m\u001b[0;34m\u001b[0m\u001b[0m\n\u001b[0m",
      "\u001b[0;31mTypeError\u001b[0m: unhashable type: 'slice'"
     ]
    }
   ],
   "source": [
    "occurances['dugah'][:10]"
   ]
  },
  {
   "cell_type": "code",
   "execution_count": 108,
   "metadata": {
    "scrolled": false
   },
   "outputs": [
    {
     "data": {
      "text/plain": [
       "[('[0, 0, 0, 0, 0, 0, 0, 0]', 176),\n",
       " ('[1200, 1000, 788.889, 700, 500, 288.889, 500, 700]', 99),\n",
       " ('[1200, 1200, 1200, 1200, 1200, 1200, 1200, 1200]', 84),\n",
       " ('[200, 377.778, 500, 900, 700, 500, 377.778, 200]', 74),\n",
       " ('[1200, 1000, 788.889, 700, 500, 288.889, 88.889, 0]', 74),\n",
       " ('[500, 700, 788.889, 700, 500, 288.889, 200, 0]', 65),\n",
       " ('[788.889, 700, 500, 288.889, 200, 0, -111.111, 0]', 59),\n",
       " ('[200, 288.889, 500, 700, 788.889, 700, 500, 288.889]', 58),\n",
       " ('[1200, 1088.889, 811.111, 700, 500, 377.778, 500, 700]', 58),\n",
       " ('[288.889, 500, 700, 788.889, 700, 500, 288.889, 200]', 57),\n",
       " ('[700, 811.111, 1088.889, 1200, 1088.889, 811.111, 700, 500]', 55),\n",
       " ('[1200, 1088.889, 811.111, 700, 500, 377.778, 111.111, 0]', 55),\n",
       " ('[1200, 1000, 1000, 788.889, 788.889, 700, 700, 500]', 55),\n",
       " ('[900, 700, 500, 377.778, 200, 0, 200, 377.778]', 53),\n",
       " ('[700, 788.889, 1000, 1200, 1000, 788.889, 700, 500]', 53),\n",
       " ('[500, 288.889, 500, 700, 788.889, 700, 500, 288.889]', 52),\n",
       " ('[500, 400, 200, 0, -88.889, -300, -88.889, 0]', 52),\n",
       " ('[1000, 1000, 1000, 1000, 1000, 1000, 1000, 1000]', 52),\n",
       " ('[700, 500, 377.778, 200, 0, 200, 377.778, 500]', 51),\n",
       " ('[200, 377.778, 500, 700, 900, 700, 500, 377.778]', 51)]"
      ]
     },
     "execution_count": 108,
     "metadata": {},
     "output_type": "execute_result"
    }
   ],
   "source": [
    "ranked_ngrams['rast'][:10]"
   ]
  },
  {
   "cell_type": "markdown",
   "metadata": {},
   "source": [
    "## Pattern search including note duration"
   ]
  },
  {
   "cell_type": "code",
   "execution_count": null,
   "metadata": {},
   "outputs": [],
   "source": [
    "occurances_dur = {}\n",
    "score_occurances = {}\n",
    "# For each tonic\n",
    "for tonic_name, scores in scores_by_tonic.items():\n",
    "    occurances_dur[tonic_name] = {}\n",
    "    score_occurances[tonic_name] = {}\n",
    "    # For each score\n",
    "    for score in scores:\n",
    "        # Get all the notes from the score\n",
    "        notes = get_notes(score)\n",
    "        # Transform notes to intervals from tonic note\n",
    "        tonic_intervals = transform_to_tonic_intervals(tonic_note[tonic_name], notes, duration=True)\n",
    "        \n",
    "        # Generate all possible ngrams\n",
    "        ngrams = generate_ngrams(tonic_intervals, n=ngram_length)\n",
    "        for ngram in ngrams:\n",
    "            # Counting how many times did the ngram occur in general\n",
    "            if not str(ngram) in occurances_dur[tonic_name]:\n",
    "                occurances_dur[tonic_name][str(ngram)] = 0\n",
    "            occurances_dur[tonic_name][str(ngram)] += 1\n",
    "            \n",
    "            # For each ngram aggregating the scores that it appeared in\n",
    "            if str(ngram) not in score_occurances:\n",
    "                score_occurances[tonic_name][str(ngram)] = set()\n",
    "            score_occurances[tonic_name][str(ngram)].add(score)"
   ]
  },
  {
   "cell_type": "code",
   "execution_count": 45,
   "metadata": {},
   "outputs": [
    {
     "data": {
      "text/plain": [
       "1436"
      ]
     },
     "execution_count": 45,
     "metadata": {},
     "output_type": "execute_result"
    }
   ],
   "source": []
  },
  {
   "cell_type": "code",
   "execution_count": 41,
   "metadata": {},
   "outputs": [],
   "source": [
    "ranked_ngrams_dur = {}\n",
    "for tonic_name, occ in occurances_dur.items():\n",
    "    ranked_ngrams_dur[tonic_name] =  [(k, occ[k]) for k in sorted(occ, key=occ.get, reverse=True)]"
   ]
  },
  {
   "cell_type": "code",
   "execution_count": 42,
   "metadata": {},
   "outputs": [
    {
     "name": "stdout",
     "output_type": "stream",
     "text": [
      "No duration\n",
      "('[1200, 1000, 788.889, 700, 500]', 723)\n",
      "('[788.889, 700, 500, 288.889, 200]', 504)\n",
      "('[700, 500, 377.778, 500, 700]', 475)\n",
      "('[700, 500, 288.889, 200, 0]', 464)\n",
      "('[1000, 788.889, 700, 500, 288.889]', 464)\n",
      "('[700, 788.889, 700, 500, 288.889]', 448)\n",
      "('[900, 700, 500, 377.778, 200]', 435)\n",
      "('[700, 500, 288.889, 500, 700]', 425)\n",
      "('[1200, 1088.889, 811.111, 700, 500]', 420)\n",
      "('[788.889, 700, 500, 288.889, 500]', 406)\n",
      "Duration\n",
      "('[(788.889, 0.5), (700, 0.5), (500, 0.5), (288.889, 0.5), (200, 0.5)]', 144)\n",
      "('[(700, 0.25), (788.889, 0.25), (700, 0.25), (500, 0.25), (288.889, 0.25)]', 136)\n",
      "('[(1200, 0.5), (1000, 0.5), (788.889, 0.5), (700, 0.5), (500, 0.5)]', 112)\n",
      "('[(1200, 0.25), (1088.889, 0.25), (811.111, 0.25), (700, 0.25), (500, 0.25)]', 108)\n",
      "('[(700, 0.5), (500, 0.5), (288.889, 0.5), (200, 0.5), (0, 0.5)]', 107)\n",
      "('[(788.889, 0.25), (700, 0.25), (500, 0.25), (288.889, 0.25), (200, 0.25)]', 106)\n",
      "('[(200, 0.25), (200, 0.25), (0, 0.25), (0, 0.25), (-111.111, 0.25)]', 99)\n",
      "('[(900, 0.5), (700, 0.5), (500, 0.5), (377.778, 0.5), (200, 0.5)]', 96)\n",
      "('[(788.889, 0.5), (700, 0.5), (500, 0.5), (288.889, 0.5), (500, 0.5)]', 92)\n",
      "('[(1200, 0.25), (1000, 0.25), (788.889, 0.25), (700, 0.25), (500, 0.25)]', 92)\n"
     ]
    }
   ],
   "source": [
    "print(\"No duration\")\n",
    "print(\"\\n\".join([str(rn) for rn in ranked_ngrams['rast'][:10]]))\n",
    "print(\"Duration\")\n",
    "print(\"\\n\".join([str(rn) for rn in ranked_ngrams_dur['rast'][:10]]))"
   ]
  },
  {
   "cell_type": "markdown",
   "metadata": {},
   "source": [
    "## Playing with results"
   ]
  },
  {
   "cell_type": "code",
   "execution_count": 17,
   "metadata": {},
   "outputs": [],
   "source": [
    "def ngram_to_intervals(ngram):\n",
    "    return [float(item) for item in ngram[1:-1].split(',')]\n",
    "\n",
    "def ngram_to_notes(ngram, base_note=\"C2\"):\n",
    "    '''\n",
    "    Transforms ngram to music21 stream\n",
    "    '''\n",
    "    intervals = ngram_to_intervals(ngram)\n",
    "    stream = m21.stream.Stream()\n",
    "    \n",
    "    note = m21.note.Note(base_note)\n",
    "    stream.append(note)\n",
    "    accumulated_interval = 0\n",
    "    for interval in intervals:\n",
    "        note = m21.note.Note(base_note)\n",
    "        accumulated_interval += interval*200/9\n",
    "        note.pitch.microtone = accumulated_interval\n",
    "        stream.append(note)\n",
    "    return stream\n",
    "\n",
    "def play_ngram(ngram, base_note=\"C2\"):\n",
    "    '''\n",
    "    Plays given ngram with use of pygame\n",
    "    '''\n",
    "    stream = ngram_to_notes(ngram, base_note=base_note)\n",
    "    player = m21.midi.realtime.StreamPlayer(stream).play()"
   ]
  },
  {
   "cell_type": "code",
   "execution_count": null,
   "metadata": {
    "scrolled": true
   },
   "outputs": [],
   "source": [
    "# Having fun\n",
    "import random\n",
    "# Take 0,1% first most frequent ngrams\n",
    "ngrams = ranked_ngrams.copy()[:int(len(ranked_ngrams)/1000)]\n",
    "# Generate random permutation\n",
    "ngrams = np.random.permutation(ngrams)\n",
    "# Concatenate first 6 ngrams\n",
    "intervals = []\n",
    "for ngram, _ in ngrams:\n",
    "    intervals += ngram_to_intervals(ngram)\n",
    "# Play resulting phrase\n",
    "play_ngram(str(intervals), 'C4')"
   ]
  },
  {
   "cell_type": "code",
   "execution_count": 18,
   "metadata": {},
   "outputs": [
    {
     "name": "stdout",
     "output_type": "stream",
     "text": [
      "pygame 1.9.4\n",
      "Hello from the pygame community. https://www.pygame.org/contribute.html\n"
     ]
    }
   ],
   "source": [
    "play_ngram('[8.0, 5.5, 18.0, -9.0, -9.0, -5.5, -8.0, -9.0]', base_note='D2')"
   ]
  },
  {
   "cell_type": "code",
   "execution_count": 37,
   "metadata": {},
   "outputs": [
    {
     "data": {
      "image/png": "[encoded data removed]",
      "text/plain": [
       "<IPython.core.display.Image object>"
      ]
     },
     "metadata": {
      "image/png": {
       "height": 50,
       "width": 149
      }
     },
     "output_type": "display_data"
    }
   ],
   "source": [
    "stream = m21.stream.Stream()\n",
    "note = m21.note.Note(\"C\")\n",
    "stream.append(note)\n",
    "stream.show()"
   ]
  },
  {
   "cell_type": "code",
   "execution_count": null,
   "metadata": {},
   "outputs": [],
   "source": []
  }
 ],
 "metadata": {
  "kernelspec": {
   "display_name": "Python 3",
   "language": "python",
   "name": "python3"
  },
  "language_info": {
   "codemirror_mode": {
    "name": "ipython",
    "version": 3
   },
   "file_extension": ".py",
   "mimetype": "text/x-python",
   "name": "python",
   "nbconvert_exporter": "python",
   "pygments_lexer": "ipython3",
   "version": "3.7.2"
  }
 },
 "nbformat": 4,
 "nbformat_minor": 2
}
